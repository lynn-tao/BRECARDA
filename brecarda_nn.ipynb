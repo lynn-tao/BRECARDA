{
 "cells": [
  {
   "cell_type": "code",
   "execution_count": 1,
   "metadata": {},
   "outputs": [],
   "source": [
    "from sklearn.neural_network import MLPClassifier\n",
    "from sklearn.model_selection import train_test_split\n",
    "import numpy as np # linear algebra\n",
    "import pandas as pd # data processing, CSV file I/O (e.g. pd.read_csv)\n"
   ]
  },
  {
   "cell_type": "code",
   "execution_count": 2,
   "metadata": {},
   "outputs": [
    {
     "name": "stdout",
     "output_type": "stream",
     "text": [
      "            FID      IID  PHENO       CNT     CNT2         SCORE\n",
      "0            -1       -1     -9  12020974  2417559  1.305400e-08\n",
      "1            -2       -2     -9  12507242  2182655  1.215920e-08\n",
      "2            -3       -3     -9  12512616  2180018  1.817880e-08\n",
      "3            -4       -4     -9  12499118  2191303  8.271810e-10\n",
      "4            -5       -5     -9  12501118  2184320  7.531700e-09\n",
      "...         ...      ...    ...       ...      ...           ...\n",
      "487404  6026146  6026146     -9  12509134  2178735  1.159600e-08\n",
      "487405  6026154  6026154     -9  12396882  2164003  6.597620e-09\n",
      "487406  6026163  6026163     -9  12304420  2153836 -3.528220e-09\n",
      "487407  6026178  6026178     -9  12527634  2236806  1.391440e-08\n",
      "487408  6026181  6026181     -9  12512296  2194268  1.237080e-09\n",
      "\n",
      "[487409 rows x 6 columns]\n"
     ]
    }
   ],
   "source": [
    "# Read AnnoPred PRS score file\n",
    "score = pd.read_csv('C:\\\\Users\\\\lynn\\\\yale\\\\breast-t2_pT_non_inf_betas_1e-05.profile', delim_whitespace=True)\n",
    "#print(score.columns)\n",
    "#print(score.info())\n",
    "print(score)"
   ]
  },
  {
   "cell_type": "code",
   "execution_count": 3,
   "metadata": {},
   "outputs": [
    {
     "name": "stdout",
     "output_type": "stream",
     "text": [
      "            FID         SCORE\n",
      "0            -1  1.305400e-08\n",
      "1            -2  1.215920e-08\n",
      "2            -3  1.817880e-08\n",
      "3            -4  8.271810e-10\n",
      "4            -5  7.531700e-09\n",
      "...         ...           ...\n",
      "487404  6026146  1.159600e-08\n",
      "487405  6026154  6.597620e-09\n",
      "487406  6026163 -3.528220e-09\n",
      "487407  6026178  1.391440e-08\n",
      "487408  6026181  1.237080e-09\n",
      "\n",
      "[487409 rows x 2 columns]\n"
     ]
    }
   ],
   "source": [
    "# only keep FID and SCORE column\n",
    "score = score[['FID','SCORE']]\n",
    "print(score)"
   ]
  },
  {
   "cell_type": "code",
   "execution_count": 4,
   "metadata": {},
   "outputs": [
    {
     "name": "stdout",
     "output_type": "stream",
     "text": [
      "            eid     sex  age_recruit  year_birth date_recruit date_death  BC  \\\n",
      "0       1000019    Male           53        1954   2008-02-27        NaN   0   \n",
      "1       1000022  Female           65        1942   2008-01-23        NaN   2   \n",
      "2       1000035    Male           57        1952   2009-11-03        NaN   0   \n",
      "3       1000046    Male           46        1960   2007-07-07        NaN   0   \n",
      "4       1000054    Male           59        1949   2008-10-31        NaN   0   \n",
      "...         ...     ...          ...         ...          ...        ...  ..   \n",
      "502613  6026146  Female           55        1952   2008-08-30        NaN   0   \n",
      "502614  6026154    Male           53        1955   2009-02-05        NaN   0   \n",
      "502615  6026163  Female           57        1951   2009-02-21        NaN   0   \n",
      "502616  6026178    Male           68        1941   2010-06-14        NaN   0   \n",
      "502617  6026181  Female           45        1964   2009-11-12        NaN   0   \n",
      "\n",
      "       BC_epistart BC_date_end  age_end  follow_up  \n",
      "0              NaN  2021-02-05       67       4727  \n",
      "1       2005-10-11  2005-10-11       63       -834  \n",
      "2              NaN  2021-02-05       69       4112  \n",
      "3              NaN  2021-02-05       61       4962  \n",
      "4              NaN  2021-02-05       72       4480  \n",
      "...            ...         ...      ...        ...  \n",
      "502613         NaN  2021-02-05       69       4542  \n",
      "502614         NaN  2021-02-05       66       4383  \n",
      "502615         NaN  2021-02-05       70       4367  \n",
      "502616         NaN  2021-02-05       80       3889  \n",
      "502617         NaN  2021-02-05       57       4103  \n",
      "\n",
      "[502618 rows x 11 columns]\n"
     ]
    }
   ],
   "source": [
    "#Read BC phenotype file\n",
    "pheno = pd.read_csv('C:\\\\Users\\\\lynn\\\\yale\\\\ukbb_BC.tsv', delim_whitespace=True)\n",
    "#print(pheno.columns)\n",
    "#print(pheno.info())\n",
    "print(pheno)"
   ]
  },
  {
   "cell_type": "code",
   "execution_count": 5,
   "metadata": {},
   "outputs": [],
   "source": [
    "# update BC to 1 if it is > 0\n",
    "pheno.loc[pheno['BC'] > 0, 'BC'] = 1"
   ]
  },
  {
   "cell_type": "code",
   "execution_count": 6,
   "metadata": {},
   "outputs": [
    {
     "name": "stdout",
     "output_type": "stream",
     "text": [
      "            eid  age_end  BC     sex\n",
      "0       1000019       67   0    Male\n",
      "1       1000022       63   1  Female\n",
      "2       1000035       69   0    Male\n",
      "3       1000046       61   0    Male\n",
      "4       1000054       72   0    Male\n",
      "...         ...      ...  ..     ...\n",
      "502613  6026146       69   0  Female\n",
      "502614  6026154       66   0    Male\n",
      "502615  6026163       70   0  Female\n",
      "502616  6026178       80   0    Male\n",
      "502617  6026181       57   0  Female\n",
      "\n",
      "[502618 rows x 4 columns]\n"
     ]
    }
   ],
   "source": [
    "# only keep eid, age_end, BC, sex columns\n",
    "pheno = pheno[['eid', 'age_end', 'BC', 'sex']]\n",
    "print(pheno)"
   ]
  },
  {
   "cell_type": "code",
   "execution_count": 7,
   "metadata": {},
   "outputs": [
    {
     "name": "stdout",
     "output_type": "stream",
     "text": [
      "control and case before cleanup\n",
      " 0    481536\n",
      "1     21082\n",
      "Name: BC, dtype: int64\n"
     ]
    }
   ],
   "source": [
    "print('control and case before cleanup\\n', pheno['BC'].value_counts())"
   ]
  },
  {
   "cell_type": "code",
   "execution_count": 8,
   "metadata": {},
   "outputs": [
    {
     "name": "stdout",
     "output_type": "stream",
     "text": [
      "            eid     smoke   alcohol  alcohol_frq  education hypertension  t2d  \\\n",
      "0       1000019     Never   Current          1.0       20.0          yes    0   \n",
      "1       1000022     Never   Current          5.0       15.0          yes    0   \n",
      "2       1000035     Never   Current          4.0       20.0          yes    0   \n",
      "3       1000046  Previous  Previous          6.0       20.0           no    0   \n",
      "4       1000054     Never   Current          4.0       20.0          yes    0   \n",
      "...         ...       ...       ...          ...        ...          ...  ...   \n",
      "502613  6026146     Never   Current          4.0       15.0           no    0   \n",
      "502614  6026154  Previous   Current          2.0        7.0          yes    0   \n",
      "502615  6026163   Current   Current          2.0        7.0           no    0   \n",
      "502616  6026178     Never   Current          5.0       20.0          yes    0   \n",
      "502617  6026181  Previous   Current          3.0       10.0          yes    0   \n",
      "\n",
      "        stroke  height      bmi  fast_glucose    hdl  total_chol  total_trig  \\\n",
      "0            0   176.0  21.2745         3.558  1.441       4.956       0.854   \n",
      "1            0   160.0  27.7344         4.926  1.857       6.157       0.850   \n",
      "2            0   155.0  24.0166         5.156  0.923       3.915       0.763   \n",
      "3            0   182.0  22.3101         3.501  1.114       4.209       1.229   \n",
      "4            0   175.0  30.9878         6.370  0.862       4.813       5.925   \n",
      "...        ...     ...      ...           ...    ...         ...         ...   \n",
      "502613       0   168.0  20.5145           NaN    NaN       7.274       0.702   \n",
      "502614       0   174.0  25.8621         5.983  1.437       6.582       2.274   \n",
      "502615       0   166.0  24.0964         5.367  0.977       6.542       3.997   \n",
      "502616       0   167.0  28.2549         5.408  1.704       4.473       0.607   \n",
      "502617       0   161.0  28.2397         5.638  1.423       6.017       2.165   \n",
      "\n",
      "        age_menarche  age_menopause  \n",
      "0                NaN            NaN  \n",
      "1               13.0           50.0  \n",
      "2                NaN            NaN  \n",
      "3                NaN            NaN  \n",
      "4                NaN            NaN  \n",
      "...              ...            ...  \n",
      "502613          15.0           53.0  \n",
      "502614           NaN            NaN  \n",
      "502615          16.0            NaN  \n",
      "502616           NaN            NaN  \n",
      "502617          14.0            NaN  \n",
      "\n",
      "[502618 rows x 16 columns]\n"
     ]
    }
   ],
   "source": [
    "# Read other phenotypes/lifestyle data\n",
    "lifestyle = pd.read_csv('C:\\\\Users\\\\lynn\\\\yale\\\\ukbb_ALL_phenotype.csv', delim_whitespace=True)\n",
    "#print(lifestyle.columns)\n",
    "#print(lifestyle.info())\n",
    "print(lifestyle)"
   ]
  },
  {
   "cell_type": "code",
   "execution_count": 9,
   "metadata": {},
   "outputs": [],
   "source": [
    "# convert smoke to numeric values\n",
    "#print(lifestyle['smoke'].value_counts())\n",
    "lifestyle.loc[lifestyle['smoke'] != 'Never', 'smoke'] = 1\n",
    "lifestyle.loc[lifestyle['smoke'] == 'Never', 'smoke'] = 0\n",
    "#print(lifestyle['smoke'].value_counts())"
   ]
  },
  {
   "cell_type": "code",
   "execution_count": 10,
   "metadata": {},
   "outputs": [],
   "source": [
    "# convert alcohol to numeric values\n",
    "#print(lifestyle['alcohol'].value_counts())\n",
    "lifestyle.loc[lifestyle['alcohol'] != 'Never', 'alcohol'] = 1\n",
    "lifestyle.loc[lifestyle['alcohol'] == 'Never', 'alcohol'] = 0\n",
    "#print(lifestyle['alcohol'].value_counts())"
   ]
  },
  {
   "cell_type": "code",
   "execution_count": 11,
   "metadata": {},
   "outputs": [],
   "source": [
    "# copnvert hypertension to numeric values\n",
    "#print(lifestyle['hypertension'].value_counts())\n",
    "lifestyle.loc[lifestyle['hypertension'] != 'yes', 'hypertension'] = 0\n",
    "lifestyle.loc[lifestyle['hypertension'] == 'yes', 'hypertension'] = 1\n",
    "#print(lifestyle['hypertension'].value_counts())"
   ]
  },
  {
   "cell_type": "code",
   "execution_count": 12,
   "metadata": {},
   "outputs": [],
   "source": [
    "#join score and pheno by FID = eid\n",
    "mergeddata = pd.merge(left=score, right=pheno, left_on='FID', right_on='eid')\n",
    "#print(mergeddata)"
   ]
  },
  {
   "cell_type": "code",
   "execution_count": 13,
   "metadata": {},
   "outputs": [],
   "source": [
    "#join merged data with lifestyle on eid\n",
    "mergeddata = pd.merge(left=mergeddata, right=lifestyle, on='eid')\n",
    "#print(mergeddata)"
   ]
  },
  {
   "cell_type": "code",
   "execution_count": 14,
   "metadata": {},
   "outputs": [],
   "source": [
    "# clean data, removing all NaN values\n",
    "cleanedData = mergeddata.loc[mergeddata['fast_glucose'].notna() & mergeddata['alcohol_frq'].notna() & mergeddata['bmi'].notna() & mergeddata['hdl'].notna() & mergeddata['total_chol'].notna() & mergeddata['total_trig'].notna()]\n",
    "#filter out Male, using only Female data.\n",
    "data = cleanedData.loc[cleanedData['sex'] == 'Female']\n"
   ]
  },
  {
   "cell_type": "code",
   "execution_count": 15,
   "metadata": {},
   "outputs": [
    {
     "name": "stdout",
     "output_type": "stream",
     "text": [
      "Data columns for input:\n",
      " Index(['SCORE', 'age_end', 'smoke', 'alcohol', 'alcohol_frq', 'hypertension',\n",
      "       't2d', 'stroke', 'bmi', 'fast_glucose', 'hdl', 'total_chol',\n",
      "       'total_trig'],\n",
      "      dtype='object')\n",
      "\n",
      "Data info for input:\n",
      "<bound method DataFrame.info of                SCORE  age_end smoke alcohol  alcohol_frq hypertension  t2d  \\\n",
      "1       1.924630e-09       63     0       1          5.0            1    0   \n",
      "5       6.043900e-09       74     1       1          1.0            0    0   \n",
      "13      8.879510e-09       58     0       1          3.0            0    0   \n",
      "14      3.588160e-09       66     0       0          6.0            0    0   \n",
      "16      4.112830e-11       68     1       1          4.0            0    0   \n",
      "...              ...      ...   ...     ...          ...          ...  ...   \n",
      "487306  1.596320e-10       79     0       1          5.0            0    0   \n",
      "487309  4.273150e-09       55     0       1          4.0            1    0   \n",
      "487310  3.480860e-09       78     0       1          3.0            1    0   \n",
      "487314 -3.528220e-09       70     1       1          2.0            0    0   \n",
      "487316  1.237080e-09       57     1       1          3.0            1    0   \n",
      "\n",
      "        stroke      bmi  fast_glucose    hdl  total_chol  total_trig  \n",
      "1            0  27.7344         4.926  1.857       6.157       0.850  \n",
      "5            0  25.5428         5.105  2.326       6.446       0.614  \n",
      "13           0  27.8352         4.230  1.203       5.079       1.389  \n",
      "14           0  25.5298         4.810  1.611       6.021       1.479  \n",
      "16           0  25.9708         4.762  1.515       8.204       2.394  \n",
      "...        ...      ...           ...    ...         ...         ...  \n",
      "487306       0  20.9734         4.882  1.849       5.461       0.776  \n",
      "487309       0  21.0547         5.077  2.232       5.125       1.143  \n",
      "487310       0  25.2429         5.595  0.975       3.914       1.333  \n",
      "487314       0  24.0964         5.367  0.977       6.542       3.997  \n",
      "487316       0  28.2397         5.638  1.423       6.017       2.165  \n",
      "\n",
      "[227223 rows x 13 columns]>\n",
      "\n",
      "Data columns for output:\n",
      " Index(['BC'], dtype='object')\n",
      "\n",
      "Data info for put:\n",
      "<bound method DataFrame.info of         BC\n",
      "1        1\n",
      "5        0\n",
      "13       0\n",
      "14       0\n",
      "16       0\n",
      "...     ..\n",
      "487306   0\n",
      "487309   0\n",
      "487310   0\n",
      "487314   0\n",
      "487316   0\n",
      "\n",
      "[227223 rows x 1 columns]>\n"
     ]
    }
   ],
   "source": [
    "# Using only these columns as input data\n",
    "input = data[['SCORE', 'age_end', 'smoke', 'alcohol',\n",
    "       'alcohol_frq', 'hypertension', 't2d', 'stroke', 'bmi', 'fast_glucose',\n",
    "       'hdl', 'total_chol', 'total_trig']]\n",
    "#input = data[['SCORE', 'smoke', 'bmi']]\n",
    "\n",
    "print('Data columns for input:\\n', input.columns)\n",
    "print('\\nData info for input:')\n",
    "print(input.info)\n",
    "# using BC as output\n",
    "output = data[['BC']]\n",
    "print('\\nData columns for output:\\n', output.columns)\n",
    "print('\\nData info for put:')\n",
    "print(output.info)\n",
    "\n",
    "# using series as output\n",
    "output = data['BC']"
   ]
  },
  {
   "cell_type": "code",
   "execution_count": 16,
   "metadata": {},
   "outputs": [],
   "source": [
    "# get the values out of dataframe\n",
    "X = input.values"
   ]
  },
  {
   "cell_type": "code",
   "execution_count": 17,
   "metadata": {},
   "outputs": [],
   "source": [
    "# Using BC as target/output data, 0 - control, 1 - case\n",
    "y = output.values"
   ]
  },
  {
   "cell_type": "code",
   "execution_count": 18,
   "metadata": {},
   "outputs": [],
   "source": [
    "# split the data into training set and test set.\n",
    "# 2/3 for training set, 1/3 for test set.\n",
    "X_train, X_test, y_train, y_test = train_test_split(X, y, stratify=y,\n",
    "                                                     random_state=1)"
   ]
  },
  {
   "cell_type": "code",
   "execution_count": 19,
   "metadata": {},
   "outputs": [
    {
     "name": "stdout",
     "output_type": "stream",
     "text": [
      "Number of cases in training set is 12770\n",
      "Number of cases in test set is  4257\n",
      "Number of total cases is 17027\n"
     ]
    }
   ],
   "source": [
    "#count BC cases in train and test set\n",
    "print('Number of cases in training set is', (y_train == 1).sum())\n",
    "print('Number of cases in test set is ', (y_test == 1).sum())\n",
    "print('Number of total cases is', (y == 1).sum())"
   ]
  },
  {
   "cell_type": "code",
   "execution_count": 20,
   "metadata": {},
   "outputs": [
    {
     "name": "stdout",
     "output_type": "stream",
     "text": [
      "Training set shape is  (170417, 13)\n",
      "Test set shape is (56806, 13)\n",
      "Combined set shape is (227223, 13)\n"
     ]
    }
   ],
   "source": [
    "print('Training set shape is ',X_train.shape)\n",
    "print('Test set shape is', X_test.shape)\n",
    "print('Combined set shape is', X.shape)"
   ]
  },
  {
   "cell_type": "code",
   "execution_count": 96,
   "metadata": {},
   "outputs": [
    {
     "name": "stdout",
     "output_type": "stream",
     "text": [
      "Iteration 1, loss = 0.25119545\n",
      "Iteration 2, loss = 0.23903261\n",
      "Iteration 3, loss = 0.23634443\n",
      "Iteration 4, loss = 0.23575161\n",
      "Iteration 5, loss = 0.23443131\n",
      "Iteration 6, loss = 0.23378068\n",
      "Iteration 7, loss = 0.23366315\n",
      "Iteration 8, loss = 0.23353687\n",
      "Iteration 9, loss = 0.23287272\n",
      "Iteration 10, loss = 0.23233220\n",
      "Iteration 11, loss = 0.23216166\n",
      "Iteration 12, loss = 0.23248810\n",
      "Iteration 13, loss = 0.23156000\n",
      "Iteration 14, loss = 0.23179934\n",
      "Iteration 15, loss = 0.23168776\n",
      "Iteration 16, loss = 0.23132142\n",
      "Iteration 17, loss = 0.23099260\n",
      "Iteration 18, loss = 0.23149971\n",
      "Iteration 19, loss = 0.23067339\n",
      "Iteration 20, loss = 0.23097304\n",
      "Iteration 21, loss = 0.23070476\n",
      "Iteration 22, loss = 0.23077524\n",
      "Iteration 23, loss = 0.23102301\n",
      "Iteration 24, loss = 0.23068542\n",
      "Iteration 25, loss = 0.23038520\n",
      "Iteration 26, loss = 0.23052963\n",
      "Iteration 27, loss = 0.23033761\n",
      "Iteration 28, loss = 0.23022655\n",
      "Iteration 29, loss = 0.22985135\n",
      "Iteration 30, loss = 0.22975597\n",
      "Iteration 31, loss = 0.22987612\n",
      "Iteration 32, loss = 0.22981091\n",
      "Iteration 33, loss = 0.22992253\n",
      "Iteration 34, loss = 0.23007734\n",
      "Iteration 35, loss = 0.22909247\n",
      "Iteration 36, loss = 0.22923409\n",
      "Iteration 37, loss = 0.22944727\n",
      "Iteration 38, loss = 0.22951958\n",
      "Iteration 39, loss = 0.22996653\n",
      "Iteration 40, loss = 0.22949271\n",
      "Iteration 41, loss = 0.22914761\n",
      "Iteration 42, loss = 0.22912468\n",
      "Iteration 43, loss = 0.22921796\n",
      "Iteration 44, loss = 0.22920611\n",
      "Iteration 45, loss = 0.22921666\n",
      "Iteration 46, loss = 0.22941275\n",
      "Training loss did not improve more than tol=0.000010 for 10 consecutive epochs. Stopping.\n"
     ]
    },
    {
     "data": {
      "text/plain": [
       "0.934373129598986"
      ]
     },
     "execution_count": 96,
     "metadata": {},
     "output_type": "execute_result"
    }
   ],
   "source": [
    "#clf = MLPClassifier(random_state=1, max_iter=300, verbose=True, tol=1e-5, learning_rate_init=0.001, activation='logistic').fit(X_train, y_train)\n",
    "clf = MLPClassifier(hidden_layer_sizes=(100, 100, 100, 100, 100, 100, 100, 100, 100, 100, 100, 100, 100, 100, 100), random_state=1, max_iter=300, tol=1e-5, verbose=True).fit(X_train, y_train)\n",
    "#clf = MLPClassifier(random_state=1, max_iter=300, tol=1e-5, verbose=True).fit(X_train, y_train)\n",
    "clf.predict_proba(X_test[:1])\n",
    "clf.predict(X_test[:5, :])\n",
    "clf.score(X_test, y_test)"
   ]
  },
  {
   "cell_type": "code",
   "execution_count": 97,
   "metadata": {},
   "outputs": [],
   "source": [
    "y_pred = clf.predict(X_test)"
   ]
  },
  {
   "cell_type": "code",
   "execution_count": 98,
   "metadata": {},
   "outputs": [],
   "source": [
    "y_pred_train = clf.predict(X_train)"
   ]
  },
  {
   "cell_type": "code",
   "execution_count": 99,
   "metadata": {},
   "outputs": [
    {
     "data": {
      "text/plain": [
       "array([0, 0, 0, ..., 0, 0, 0], dtype=int64)"
      ]
     },
     "execution_count": 99,
     "metadata": {},
     "output_type": "execute_result"
    }
   ],
   "source": [
    "y_pred"
   ]
  },
  {
   "cell_type": "code",
   "execution_count": 100,
   "metadata": {},
   "outputs": [
    {
     "data": {
      "text/plain": [
       "53078"
      ]
     },
     "execution_count": 100,
     "metadata": {},
     "output_type": "execute_result"
    }
   ],
   "source": [
    "(y_pred == y_test).sum()"
   ]
  },
  {
   "cell_type": "code",
   "execution_count": 101,
   "metadata": {},
   "outputs": [
    {
     "data": {
      "text/plain": [
       "159056"
      ]
     },
     "execution_count": 101,
     "metadata": {},
     "output_type": "execute_result"
    }
   ],
   "source": [
    "(y_pred_train == y_train).sum()"
   ]
  },
  {
   "cell_type": "code",
   "execution_count": 102,
   "metadata": {},
   "outputs": [
    {
     "data": {
      "text/plain": [
       "3728"
      ]
     },
     "execution_count": 102,
     "metadata": {},
     "output_type": "execute_result"
    }
   ],
   "source": [
    "(y_pred != y_test).sum()"
   ]
  },
  {
   "cell_type": "code",
   "execution_count": 103,
   "metadata": {},
   "outputs": [
    {
     "data": {
      "text/plain": [
       "800"
      ]
     },
     "execution_count": 103,
     "metadata": {},
     "output_type": "execute_result"
    }
   ],
   "source": [
    "((y_pred == y_test) & (y_test == 1)).sum()"
   ]
  },
  {
   "cell_type": "code",
   "execution_count": 104,
   "metadata": {},
   "outputs": [
    {
     "data": {
      "text/plain": [
       "52278"
      ]
     },
     "execution_count": 104,
     "metadata": {},
     "output_type": "execute_result"
    }
   ],
   "source": [
    "((y_pred == y_test) & (y_test == 0)).sum()"
   ]
  },
  {
   "cell_type": "code",
   "execution_count": 105,
   "metadata": {},
   "outputs": [
    {
     "data": {
      "text/plain": [
       "3457"
      ]
     },
     "execution_count": 105,
     "metadata": {},
     "output_type": "execute_result"
    }
   ],
   "source": [
    "((y_pred != y_test) & (y_test == 1)).sum()"
   ]
  },
  {
   "cell_type": "code",
   "execution_count": 106,
   "metadata": {},
   "outputs": [
    {
     "data": {
      "text/plain": [
       "271"
      ]
     },
     "execution_count": 106,
     "metadata": {},
     "output_type": "execute_result"
    }
   ],
   "source": [
    "((y_pred != y_test) & (y_pred == 1)).sum()"
   ]
  },
  {
   "cell_type": "code",
   "execution_count": 107,
   "metadata": {},
   "outputs": [
    {
     "data": {
      "text/plain": [
       "2300"
      ]
     },
     "execution_count": 107,
     "metadata": {},
     "output_type": "execute_result"
    }
   ],
   "source": [
    "((y_pred_train == y_train) & (y_train == 1)).sum()"
   ]
  },
  {
   "cell_type": "code",
   "execution_count": 108,
   "metadata": {},
   "outputs": [
    {
     "data": {
      "text/plain": [
       "156756"
      ]
     },
     "execution_count": 108,
     "metadata": {},
     "output_type": "execute_result"
    }
   ],
   "source": [
    "((y_pred_train == y_train) & (y_train == 0)).sum()"
   ]
  },
  {
   "cell_type": "code",
   "execution_count": 109,
   "metadata": {},
   "outputs": [
    {
     "data": {
      "text/plain": [
       "10470"
      ]
     },
     "execution_count": 109,
     "metadata": {},
     "output_type": "execute_result"
    }
   ],
   "source": [
    "((y_pred_train != y_train) & (y_train == 1)).sum()"
   ]
  },
  {
   "cell_type": "code",
   "execution_count": 110,
   "metadata": {},
   "outputs": [
    {
     "data": {
      "text/plain": [
       "891"
      ]
     },
     "execution_count": 110,
     "metadata": {},
     "output_type": "execute_result"
    }
   ],
   "source": [
    "((y_pred_train != y_train) & (y_train == 0)).sum()"
   ]
  },
  {
   "cell_type": "code",
   "execution_count": 348,
   "metadata": {},
   "outputs": [],
   "source": [
    "#what if we randomize the y_test and see how this classifier behaves\n",
    "#np.random.shuffle(y_test)\n",
    "\n",
    "#y_test.fill(1)\n",
    "#now check score again\n",
    "#clf.score(X_test, y_test)"
   ]
  },
  {
   "cell_type": "code",
   "execution_count": null,
   "metadata": {},
   "outputs": [],
   "source": []
  }
 ],
 "metadata": {
  "kernelspec": {
   "display_name": "Python 3",
   "language": "python",
   "name": "python3"
  },
  "language_info": {
   "codemirror_mode": {
    "name": "ipython",
    "version": 3
   },
   "file_extension": ".py",
   "mimetype": "text/x-python",
   "name": "python",
   "nbconvert_exporter": "python",
   "pygments_lexer": "ipython3",
   "version": "3.8.5"
  }
 },
 "nbformat": 4,
 "nbformat_minor": 4
}
